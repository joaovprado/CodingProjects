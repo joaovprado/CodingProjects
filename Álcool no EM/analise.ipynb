{
 "cells": [
  {
   "cell_type": "code",
   "execution_count": 13,
   "metadata": {},
   "outputs": [
    {
     "data": {
      "text/plain": [
       "Index(['idade', 'Educacao_Mae', 'Educacao_Pai', 'Trabalho_Mae', 'Trabalho_Pai',\n",
       "       'Tempo_ida_Escola', 'Tempo_Estudo_Semanal', 'Boa_Convivencia_Familia',\n",
       "       'Tempo_Livre_Apos_Escola', 'Tempo_com_Amigos', 'Alcool_Dia_Util',\n",
       "       'Alcool_Fim_Semana', 'Estado_Saude', 'Falta_Escolar',\n",
       "       'Escola_Gabriel Pereira', 'Sexo_Homem', 'TP_Moradia_Urbano',\n",
       "       'Tamanho_Familia_Acima de 3', 'Situacao_Pais_Separados',\n",
       "       'Apoio_Educacao_Extra', 'Apoio_Educacao_Pais', 'Aulas_Particulares',\n",
       "       'Tem_Internet', 'Quer_Fazer_Graduacao', 'Frequentou_Creche',\n",
       "       'Ativ_Extracurricular', 'Esta_Namorando',\n",
       "       'Motivo_Escolha_Escolar_Perto de Casa',\n",
       "       'Motivo_Escolha_Escolar_Preferência pelo Curso',\n",
       "       'Motivo_Escolha_Escolar_Reputação', 'Responsavel_Legal_Mãe',\n",
       "       'Responsavel_Legal_Pai', 'Media'],\n",
       "      dtype='object')"
      ]
     },
     "execution_count": 13,
     "metadata": {},
     "output_type": "execute_result"
    }
   ],
   "source": [
    "import pandas as pd\n",
    "\n",
    "df = pd.read_csv('lpor_explorer.csv')\n",
    "\n",
    "# One-hot encode columns in columns with 2 categories\n",
    "df = pd.get_dummies(df, columns=['Escola', 'Sexo', 'TP_Moradia', 'Tamanho_Familia', 'Situacao_Pais', 'Apoio_Educacao_Extra', 'Apoio_Educacao_Pais', 'Aulas_Particulares', 'Tem_Internet', 'Quer_Fazer_Graduacao', 'Frequentou_Creche', 'Ativ_Extracurricular', 'Esta_Namorando'])\n",
    "# One-hot encode columns in columns with more than 2 categories\n",
    "df = pd.get_dummies(df, columns=['Motivo_Escolha_Escolar', 'Responsavel_Legal'])\n",
    "# Drop columns: 'Frequentou_Creche_Não', 'Escola_Mousinho da Silveira' and 11 other columns\n",
    "df = df.drop(columns=['Responsavel_Legal_Outro', 'Motivo_Escolha_Escolar_Outro', 'Frequentou_Creche_Não', 'Escola_Mousinho da Silveira', 'Sexo_Mulher', 'TP_Moradia_Rural', 'Tamanho_Familia_Até 3', 'Situacao_Pais_Morando Juntos', 'Apoio_Educacao_Extra_Não', 'Apoio_Educacao_Pais_Não', 'Aulas_Particulares_Não', 'Tem_Internet_Não', 'Quer_Fazer_Graduacao_Não', 'Ativ_Extracurricular_Não', 'Esta_Namorando_Não'])\n",
    "df.columns = df.columns.str.replace('_Sim', '')    \n",
    "\n",
    "# Put numbers instead categories in a column\n",
    "def encoding(column, categories):\n",
    "    for i, category in enumerate(categories):\n",
    "        column = column.replace(category, i)\n",
    "    df[column.name] = column\n",
    "\n",
    "encoding(df.Estado_Saude, ['Muito Ruim', 'Ruim', 'Razoavel', 'Bom', 'Muito Bom'])################################\n",
    "encoding(df.Boa_Convivencia_Familia, ['Muito Ruim', 'Ruim', 'Razoavel', 'Bom', 'Excelente'])################################\n",
    "encoding(df.Tempo_Estudo_Semanal, ['Até 2h,', '2 a 5h', '5 a 10h', 'Mais de 10h'])\n",
    "encoding(df.Tempo_ida_Escola, ['Até 15 min', '15 a 30 min', '30 min a 1h', 'Mais de 1h'])\n",
    "encoding(df.Educacao_Pai, ['Nenhuma', 'Ensino Fundamental 1', 'Ensino Fundamental 2', 'Ensino Médio', 'Ensino Superior'])\n",
    "encoding(df.Educacao_Mae, ['Nenhuma', 'Ensino Fundamental 1', 'Ensino Fundamental 2', 'Ensino Médio', 'Ensino Superior'])\n",
    "cat = ['Muito Baixo', 'Baixo', 'Moderado', 'Alto', 'Muito Alto']\n",
    "encoding(df.Tempo_Livre_Apos_Escola, cat)\n",
    "encoding(df.Tempo_com_Amigos, cat)\n",
    "encoding(df.Alcool_Dia_Util, cat)################################\n",
    "encoding(df.Alcool_Fim_Semana, cat)################################\n",
    "\n",
    "# Replace both grades with the average of the two semesters\n",
    "df['Media'] = df. Nota_1Semestre + df.Nota_2Semestre / 2\n",
    "df = df.drop(columns=['Nota_1Semestre', 'Nota_2Semestre'])################################\n",
    "\n",
    "df.columns\n",
    "\n",
    "#trabalho mae\n",
    "#trabalho pai"
   ]
  }
 ],
 "metadata": {
  "kernelspec": {
   "display_name": "Python 3",
   "language": "python",
   "name": "python3"
  },
  "language_info": {
   "codemirror_mode": {
    "name": "ipython",
    "version": 3
   },
   "file_extension": ".py",
   "mimetype": "text/x-python",
   "name": "python",
   "nbconvert_exporter": "python",
   "pygments_lexer": "ipython3",
   "version": "3.11.7"
  }
 },
 "nbformat": 4,
 "nbformat_minor": 2
}
