{
 "cells": [
  {
   "cell_type": "markdown",
   "metadata": {},
   "source": [
    "**1. Na análise de concessão de empréstimos, uma variável potencialmente importante é a \n",
    "renda da pessoa. O gerente de um banco coleta uma base de dados de seus correntistas e \n",
    "extrai a variável “renda mensal (R$)” para 50 pessoas. Embora se trate de uma variável \n",
    "quantitativa, deseja realizar uma análise por meio de tabela de frequências. Neste sentido, \n",
    "pede-se:**\n",
    "\n",
    "1. Classifique  os  correntistas  em  faixas  de  renda,  sendo:  0-2.000;  2.001-4.000;  4.001- \n",
    "6.000; 6.001-8.000; 8.001-10.000 e 10.001-12.000.\n",
    "2. Em seguida, elabore a tabela de frequências para as faixas de renda acima.\n",
    "O banco de dados está na planilha Lista de Exercício Complementares: aba Exercício 1."
   ]
  },
  {
   "cell_type": "code",
   "execution_count": 1,
   "metadata": {},
   "outputs": [
    {
     "name": "stdout",
     "output_type": "stream",
     "text": [
      "                Frequência  Frequência Relativa (%)  Frequência Acumulada  \\\n",
      "Classe                                                                      \n",
      "(0, 2000]                9                     18.0                     9   \n",
      "(2000, 4000]            19                     38.0                    28   \n",
      "(4000, 6000]            11                     22.0                    39   \n",
      "(6000, 8000]             5                     10.0                    44   \n",
      "(8000, 10000]            4                      8.0                    48   \n",
      "(10000, 12000]           2                      4.0                    50   \n",
      "\n",
      "                Frequência Acumulada Relativa (%)  \n",
      "Classe                                             \n",
      "(0, 2000]                                    18.0  \n",
      "(2000, 4000]                                 56.0  \n",
      "(4000, 6000]                                 78.0  \n",
      "(6000, 8000]                                 88.0  \n",
      "(8000, 10000]                                96.0  \n",
      "(10000, 12000]                              100.0  \n"
     ]
    }
   ],
   "source": [
    "import pandas as pd\n",
    "\n",
    "df = pd.read_excel('C:/Users/jvict/OneDrive/Documentos/CodingProjects/MBA/Aula 1 - Fundamentos de Estatística I - Wilson Tarantin Junior/Lista de Exercícios - Complementares.xlsx', sheet_name='Exercício 1', usecols='B', header = 0)\n",
    "    \n",
    "df['Renda (R$)'] = df['Renda (R$)'].apply(int)\n",
    "\n",
    "df['Classe'] = pd.cut(df['Renda (R$)'], [0, 2000, 4000, 6000, 8000, 10000, 12000]) # Cria a cateogrização baseado nos valores dados\n",
    "\n",
    "freq = df.Classe.value_counts().sort_index() # Frequências e ordena em ordem crescente\n",
    "freq_rel = freq/sum(freq)*100 # Frequências relativas\n",
    "freq_acu = freq.cumsum() # Frequências acumuladas\n",
    "freq_acu_rel = freq_rel.cumsum() # Frequências acumuladas relativas\n",
    "\n",
    "frequencias = pd.DataFrame({'Frequência': freq, \n",
    "                            'Frequência Relativa (%)': freq_rel,\n",
    "                            'Frequência Acumulada': freq_acu,\n",
    "                            'Frequência Acumulada Relativa (%)': freq_acu_rel})\n",
    "\n",
    "print(frequencias)"
   ]
  },
  {
   "cell_type": "markdown",
   "metadata": {},
   "source": [
    "**2. Um  analista  do  mercado  acionário  coletou  os  retornos  mensais  de  duas  ações  que \n",
    "pretende  indicar  aos  seus  clientes.  Calcule  as  estatísticas  descritivas  para  as  duas \n",
    "variáveis, incluindo o coeficiente de correlação entre os retornos. O banco de dados com \n",
    "os retornos percentuais mensais está na planilha Lista de Exercício Complementares: aba \n",
    "Exercício 2.**"
   ]
  },
  {
   "cell_type": "code",
   "execution_count": 6,
   "metadata": {},
   "outputs": [
    {
     "name": "stdout",
     "output_type": "stream",
     "text": [
      "                             Ação 1      Ação 2\n",
      "Nº de Observações         23.000000   23.000000\n",
      "Média                      0.035204    0.151135\n",
      "Desvio Padrão              0.129221    0.203822\n",
      "Mínimo                    -0.201800   -0.149000\n",
      "1º Quartil (25%)          -0.061200    0.020400\n",
      "27º Percentil (27%)       -0.056360    0.020840\n",
      "Mediana (50%)              0.037000    0.124800\n",
      "64º Percentil (64%)        0.076312    0.182500\n",
      "3º Quartil (75%)           0.116050    0.233300\n",
      "8º Decil (80%)             0.125960    0.261900\n",
      "9º Decil (90%)             0.223500    0.427960\n",
      "Máximo                     0.281400    0.626000\n",
      "Amplitude                  0.483200    0.775000\n",
      "Variância                  0.016698    0.041544\n",
      "Erro Padrão                0.026944    0.042500\n",
      "Coeficiente de variação  358.990858  131.896922\n",
      "\n",
      "\n",
      "Não tem moda, pq os valores nn se repetem\n",
      "\n",
      "\n",
      "Correlação:  0.29081897658677197\n",
      "Estatística T Correlação:  1.3929039354677464\n",
      "p-Valor bicaudal: não consegui chegar\n",
      "Valor Crítico (5%): não consegui chegar\n",
      "\n",
      "\n"
     ]
    }
   ],
   "source": [
    "from scipy.stats import variation\n",
    "import pandas as pd\n",
    "\n",
    "df = pd.read_excel('C:/Users/jvict/OneDrive/Documentos/CodingProjects/MBA/Aula 1 - Fundamentos de Estatística I - Wilson Tarantin Junior/Lista de Exercícios - Complementares.xlsx', sheet_name='Exercício 2', usecols='B,C', header = 0)\n",
    "    \n",
    "describe = df.describe(percentiles= [.8, .9, .27, .64, .25, .75]).rename({'count': 'Nº de Observações', 'mean' : 'Média', 'std': 'Desvio Padrão', 'min': 'Mínimo', '25%': '1º Quartil (25%)', '50%': 'Mediana (50%)', '75%': '3º Quartil (75%)', '80%': '8º Decil (80%)', '90%': '9º Decil (90%)', '27%': '27º Percentil (27%)', '64%': '64º Percentil (64%)', 'max': 'Máximo'})\n",
    "\n",
    "#moda = df.mode() # Nn tem moda, então o retorno é uma outra tabela\n",
    "\n",
    "amplitude = (df.max() - df.min()).to_frame().transpose().rename({0: 'Amplitude'})\n",
    "\n",
    "variancia = df.var().to_frame().transpose().rename({0: 'Variância'})\n",
    "\n",
    "erroPadrao = df.sem().to_frame().transpose().rename({0: 'Erro Padrão'})\n",
    "\n",
    "coef_variacao = pd.DataFrame(variation(df, nan_policy='omit')*100).transpose().rename(index = {0: 'Coeficiente de variação'}, columns = {0: 'Ação 1', 1: 'Ação 2'}) # type: ignore\n",
    "\n",
    "print(pd.concat([describe, amplitude, variancia, erroPadrao,coef_variacao]))\n",
    "\n",
    "print('')\n",
    "print('')\n",
    "\n",
    "print('Não tem moda, pq os valores nn se repetem')\n",
    "\n",
    "print('')\n",
    "print('')\n",
    "\n",
    "corr = df['Ação 1'].corr(df['Ação 2'])\n",
    "print('Correlação: ', corr) \n",
    "print('Estatística T Correlação: ', corr/((1-corr**2)/(df['Ação 1'].count()-2))**.5)\n",
    "print('p-Valor bicaudal: não consegui chegar')\n",
    "print('Valor Crítico (5%): não consegui chegar')\n",
    "\n",
    "print('')\n",
    "print('')"
   ]
  },
  {
   "cell_type": "markdown",
   "metadata": {},
   "source": [
    "**3. Em certo jogo, probabilidade de vitória (sucesso) a cada nova jogada é 1/6. Se forem \n",
    "feitas 10 jogadas, quais são as seguintes probabilidades:**\n",
    "\n",
    "1. Ter vitória em 4 jogadas.\n",
    "2. Ter vitória em pelo menos 7 jogadas."
   ]
  },
  {
   "cell_type": "code",
   "execution_count": null,
   "metadata": {},
   "outputs": [
    {
     "name": "stdout",
     "output_type": "stream",
     "text": [
      "A probabilidade é de 5.426588%\n",
      "A probabilidade é de 0.026752%\n"
     ]
    }
   ],
   "source": [
    "from scipy.stats import binom\n",
    "\n",
    "#from scipy.special import comb\n",
    "#probabilidade = lambda vitorias, jogadas, chance_vitoria: comb(jogadas, vitorias) * chance_vitoria**vitorias * (1-chance_vitoria)** (jogadas-vitorias)\n",
    "\n",
    "# chance de ter x vitorias em k rodadas = probabilidade(vitorias, rodadas, prob_vitoria)\n",
    "# chance de ter x vitorias em k rodadas = binom.pmf(vitorias, rodadas, prob_vitoria)\n",
    "\n",
    "\n",
    "prob_vitoria = 1/6 # Chance de 1/6 de vitória a cada rodada\n",
    "rodadas = 10 # 10 rodadas\n",
    "\n",
    "# Exercício 1 - Ter vitória em 4 jogadas\n",
    "print(f\"A probabilidade é de {binom.pmf(4, rodadas, prob_vitoria):%}\" ) # Calcular a probabilidade para 4 vitórias em 10 rodadas\n",
    "\n",
    "# Exercício 2 - Ter vitória em pelo menos 7 jogadas\n",
    "peloMenos7 = sum([binom.pmf(i, rodadas, prob_vitoria) for i in range(7,11)]) # Somar as probabilidades de 7, 8, 9 e 10 vitórias\n",
    "print(f\"A probabilidade é de {peloMenos7:%}\" )"
   ]
  },
  {
   "cell_type": "markdown",
   "metadata": {},
   "source": [
    "**4. (Fonte: Fávero e Belfiore, 2017, Cap. 5) Suponha que um aluno acerte três questões a \n",
    "cada cinco testes. Seja X o número de tentativas até o décimo segundo acerto. Determine \n",
    "a probabilidade de que o aluno precise fazer 20 questões para acertar 12.**"
   ]
  },
  {
   "cell_type": "code",
   "execution_count": null,
   "metadata": {},
   "outputs": [
    {
     "name": "stdout",
     "output_type": "stream",
     "text": [
      "A probabilidade é de 10.78%\n",
      "<scipy.stats._distn_infrastructure.rv_discrete_frozen object at 0x0000017A61E99350>\n"
     ]
    }
   ],
   "source": [
    "from scipy.special import comb\n",
    "from scipy.stats import nbinom\n",
    "\n",
    "probabilidade = lambda vitorias, jogadas, chance_vitoria: comb(jogadas-1, vitorias-1) * chance_vitoria**vitorias * (1-chance_vitoria)** (jogadas-vitorias)\n",
    "\n",
    "\n",
    "# 3 acertos a cada 5 testes\n",
    "# probabilidade de ter q fazer 20 testes para 12 acertos\n",
    "\n",
    "prob = 3/5\n",
    "jogadas = 20\n",
    "vitorias = 12\n",
    "\n",
    "print(f'A probabilidade é de {probabilidade(vitorias, jogadas, prob):.2%}')"
   ]
  },
  {
   "cell_type": "markdown",
   "metadata": {},
   "source": [
    "**5. (Fonte:  Fávero  e  Belfiore,  2017,  Cap.  5)  Suponha  que,  em  determinado  hospital,  3 \n",
    "clientes  são  operados  diariamente  de  cirurgia  do  estômago,  seguindo  uma  distribuição \n",
    "Poisson. Calcule a probabilidade de que 28 clientes sejam operados na próxima semana \n",
    "(7 dias úteis).**"
   ]
  },
  {
   "cell_type": "code",
   "execution_count": null,
   "metadata": {},
   "outputs": [
    {
     "name": "stdout",
     "output_type": "stream",
     "text": [
      "16.80%\n"
     ]
    }
   ],
   "source": [
    "from scipy.stats import poisson  \n",
    "\n",
    "k = 28/7\n",
    "mu = 3\n",
    "\n",
    "print(f'{poisson.pmf(k, mu):.2%}')"
   ]
  },
  {
   "cell_type": "markdown",
   "metadata": {},
   "source": [
    "**6. Nos  últimos  meses,  foram  feitas  medições  do  tempo  decorrido  entre  o  início  e \n",
    "finalização de uma das etapas do processo de produção de certo produto. O tempo médio \n",
    "foi  calculado  em  26,5  minutos  e  o  desvio  padrão  foi  de  4,0  minutos.  Sabendo  que  tal \n",
    "variável segue uma distribuição normal, identifique as seguintes informações:**\n",
    "\n",
    "1. P(X>37)\n",
    "2. P(X<20)\n",
    "3. P(22<X<28)"
   ]
  },
  {
   "cell_type": "code",
   "execution_count": null,
   "metadata": {},
   "outputs": [
    {
     "name": "stdout",
     "output_type": "stream",
     "text": [
      "0.004332448363012609\n",
      "0.05208127941521953\n",
      "0.5158752495359149\n"
     ]
    }
   ],
   "source": [
    "from scipy.stats import norm\n",
    "\n",
    "media = 26.5\n",
    "desv = 4\n",
    "\n",
    "def dist_normal(x, media, desv_padrao):\n",
    "    return norm.cdf((x-media)/desv_padrao)\n",
    "\n",
    "# P(X > 37)\n",
    "X = 37\n",
    "print(1-dist_normal(X, media, desv))\n",
    "\n",
    "\n",
    "# P(X < 20)\n",
    "X = 20\n",
    "print(dist_normal(X, media, desv))\n",
    "\n",
    "\n",
    "# P(22 < X < 28)\n",
    "X1 = 22\n",
    "X2 = 28\n",
    "print(dist_normal(X2, media, desv) - dist_normal(X1, media, desv))"
   ]
  },
  {
   "cell_type": "markdown",
   "metadata": {},
   "source": [
    "**7. (Fonte: Fávero e Belfiore, 2017, Cap. 8) Um grupo de 60 leitores fez uma avaliação de \n",
    "três livros de romance e, ao final, escolheram uma das três opções. Teste a hipótese nula \n",
    "de que não há diferença na preferência dos leitores, ao nível de significância de 5%.\n",
    "Os dados estão disponíveis na planilha Lista de Exercício Complementares: aba Exercício \n",
    "7.**"
   ]
  },
  {
   "cell_type": "code",
   "execution_count": null,
   "metadata": {},
   "outputs": [
    {
     "name": "stdout",
     "output_type": "stream",
     "text": [
      "H1 (hipótese nula rejeitada), pois o Q² (4.74%) é menor do que a significância definida de 5.00%\n",
      "Ou seja, as frequências observadas são muito diferentes da frequência esperada (20), então há preferências entre os livros.\n"
     ]
    }
   ],
   "source": [
    "# As variáveis são qualitativas, entãoé aplicado o teste Q²\n",
    "# Frequência absoluta esperada: Frequência total da linha * Frequência total da linha/ Nº total de amostras\n",
    "# Resíduo = Frequência observada - Frequência esperada\n",
    "\n",
    "\n",
    "from scipy.stats import chisquare\n",
    "import numpy as np\n",
    "\n",
    "alpha = 0.05 #Significância\n",
    "\n",
    "# Frequências:\n",
    "livroA = 29\t\n",
    "livroB = 15\n",
    "livroC = 16\n",
    "freqs = [livroA,livroB,livroC]\n",
    "\n",
    "\n",
    "print(f'H1 (hipótese nula rejeitada), pois o Q² ({chisquare(freqs)[1]:.2%}) é menor do que a significância definida de {alpha:.2%}' if chisquare(freqs)[1] < alpha else f'H0 (hipótese nula aceita), pois o Q² ({chisquare(freqs)[1]:.2%}) é maior do que a significância definida de {alpha:.2%}')\n",
    "\n",
    "print('Ou seja, as frequências observadas são muito diferentes da frequência esperada (20), então há preferências entre os livros.')"
   ]
  },
  {
   "cell_type": "markdown",
   "metadata": {},
   "source": [
    "**8. Foram coletados dados sobre a quantidade de chuva por dia (em milímetros), durante \n",
    "14 dias, para dois locais distintos. O pesquisador notou que o local A aparenta ter maior \n",
    "variabilidade  na  quantidade  chuva,  comparativamente  ao  local  B.  Neste sentido,  deseja \n",
    "testar a hipótese de que a variabilidade na quantidade de chuva é significativamente maior \n",
    "em A do que em B. Realize o teste F para testar tal hipótese.\n",
    "Os dados estão disponíveis na planilha Lista de Exercício Complementares: aba Exercício \n",
    "8.**"
   ]
  },
  {
   "cell_type": "code",
   "execution_count": null,
   "metadata": {},
   "outputs": [
    {
     "name": "stdout",
     "output_type": "stream",
     "text": [
      "H1 (hipótese nula rejeitada), pois o valor-F (2.76) é maior do que o valor-F crítico definido de 2.58\n",
      "Ou seja, as distribuições observadas são muito diferentes, pois as variâncias são diferentes, então há diferença entre os locais.\n"
     ]
    }
   ],
   "source": [
    "from scipy.stats import f, levene\n",
    "import numpy as np\n",
    "import pandas as pd\n",
    "\n",
    "df = pd.read_excel('C:/Users/jvict/OneDrive/Documentos/CodingProjects/Aula 1 - Fundamentos de Estatística I - Wilson Tarantin Junior/Lista de Exercícios - Complementares.xlsx', sheet_name='Exercício 8', usecols='A,B', nrows = 18, header = 0)\n",
    "\n",
    "alpha = 0.05 #Significância\n",
    "\n",
    "group1 = df['Local A (mm)']\n",
    "group2 = df['Local B (mm)']\n",
    "df1 =  len(group1) - 1\n",
    "df2 =  len(group2) - 1\n",
    "\n",
    "\n",
    "# Calculate the F-statistic\n",
    "f_value = np.var(group1) / np.var(group2)\n",
    "f_value_crit = f.isf(alpha, df1, df2)\n",
    "\n",
    "print(f'H1 (hipótese nula rejeitada), pois o valor-F ({f_value:.2f}) é maior do que o valor-F crítico definido de {f_value_crit:.2f}' if f_value > f_value_crit else f'H0 (hipótese nula aceita), pois o valor-F ({f_value:.2f}) é menor do que o valor-F crítico definido de {f_value:.2f}')\n",
    "print('Ou seja, as distribuições observadas são muito diferentes, pois as variâncias são diferentes, então há diferença entre os locais.')"
   ]
  },
  {
   "cell_type": "markdown",
   "metadata": {},
   "source": [
    "**9. (Fonte: Fávero e Belfiore, 2017, Cap. 7) Deseja-se comparar o tempo médio de espera \n",
    "para  atendimento  (min)  em  2  hospitais.  Para  isso,  coletou-se  uma  amostra  com  20 \n",
    "pacientes em cada hospital. Verifique se há diferenças entre os tempos médios de espera \n",
    "nos dois hospitais. Considere α = 1%.\n",
    "Adicionalmente,  calcule  os  intervalos  de  confiança  para  o  tempo  médio  de  espera  nos \n",
    "dois hospitais.\n",
    "Os dados estão disponíveis na planilha Lista de Exercício Complementares: aba Exercício \n",
    "9.**"
   ]
  },
  {
   "cell_type": "code",
   "execution_count": null,
   "metadata": {},
   "outputs": [
    {
     "name": "stdout",
     "output_type": "stream",
     "text": [
      "H0 (hipótese nula aceita), pois o valor-F (1.42) é menor do que o valor-F crítico definido de 3.03\n",
      "Ou seja, os tempos de espera de cada hospital observado são parecidos, pois as variâncias são parecidas, então não há diferença entre os hospitais.\n"
     ]
    }
   ],
   "source": [
    "from scipy.stats import f\n",
    "import numpy as np\n",
    "import pandas as pd\n",
    "\n",
    "\n",
    "df = pd.read_excel('C:/Users/jvict/OneDrive/Documentos/CodingProjects/Aula 1 - Fundamentos de Estatística I - Wilson Tarantin Junior/Lista de Exercícios - Complementares.xlsx', sheet_name='Exercício 9', usecols='A,B', nrows = 20, header = 0)\n",
    "\n",
    "alpha = 0.01 #Significância\n",
    "\n",
    "group1 = df['Hospital 1']\n",
    "group2 = df['Hospital 2']\n",
    "df1 =  len(group1) - 1\n",
    "df2 =  len(group2) - 1\n",
    "\n",
    "\n",
    "# Calculate the F-statistic\n",
    "f_value = np.var(group1) / np.var(group2)\n",
    "f_value_crit = f.isf(alpha, df1, df2)\n",
    "\n",
    "print(f'H1 (hipótese nula rejeitada), pois o valor-F ({f_value:.2f}) é maior do que o valor-F crítico definido de {f_value_crit:.2f}' if f_value > f_value_crit else f'H0 (hipótese nula aceita), pois o valor-F ({f_value:.2f}) é menor do que o valor-F crítico definido de {f_value_crit:.2f}')\n",
    "print('Ou seja, os tempos de espera de cada hospital observado são parecidos, pois as variâncias são parecidas, então não há diferença entre os hospitais.')"
   ]
  },
  {
   "cell_type": "markdown",
   "metadata": {},
   "source": [
    "**10. (Fonte: Fávero e Belfiore, 2017, Cap. 7) Um fabricante de iogurtes desnatados afirma \n",
    "que  a  quantidade  de  calorias  em  cada  pote  é  60  cal.  Para  verificar  se  essa  informação \n",
    "procede, uma amostra aleatória com 36 potes é coletada, observando-se que a quantidade \n",
    "média de calorias é de 65 cal com desvio-padrão 3,5. Aplique o teste adequado e verifique \n",
    "se a afirmação do fabricante é verdadeira, considerando o nível de significância de 5%.**"
   ]
  },
  {
   "cell_type": "code",
   "execution_count": null,
   "metadata": {},
   "outputs": [
    {
     "name": "stdout",
     "output_type": "stream",
     "text": [
      "1.6895724539637715\n",
      "H0 (hipótese nula aceita), pois o valor-F (0.05) é menor do que o valor-F crítico definido de 0.05\n",
      "Ou seja, os tempos de espera de cada hospital observado são parecidos, pois as variâncias são parecidas, então não há diferença entre os hospitais.\n"
     ]
    }
   ],
   "source": [
    "from scipy.stats import *\n",
    "import numpy as np\n",
    "\n",
    "\n",
    "alpha = 0.05 #Significância\n",
    "\n",
    "media_esperada = 60\n",
    "n_obs = 36\n",
    "media = 65\n",
    "desv = 3.5\n",
    "\n",
    "\n",
    "t_value_crit = t.isf(alpha, n_obs-1)\n",
    "\n",
    "print(t_value_crit)\n",
    "print(f'H1 (hipótese nula rejeitada), pois o valor-F ({alpha:.2f}) é maior do que o valor-F crítico definido de {alpha:.2f}' if alpha > alpha else f'H0 (hipótese nula aceita), pois o valor-F ({alpha:.2f}) é menor do que o valor-F crítico definido de {alpha:.2f}')\n",
    "print('Ou seja, os tempos de espera de cada hospital observado são parecidos, pois as variâncias são parecidas, então não há diferença entre os hospitais.')"
   ]
  },
  {
   "cell_type": "markdown",
   "metadata": {},
   "source": [
    "**11. Em uma indústria alimentícia, para a preparação de certo produto, a quantidade padrão \n",
    "de sal são 8g com desvio padrão igual a 1g. Na análise de uma amostra de 85 produtos, \n",
    "foi observada uma quantidade média de sal de 8,25g. Avalie se a quantidade observada \n",
    "na amostra pode ser considerada estatisticamente maior, ao nível de significância de 5%.**"
   ]
  },
  {
   "cell_type": "markdown",
   "metadata": {},
   "source": [
    "**12. Em uma amostra de 425 medições, observou-se que o peso médio dos produtos que \n",
    "foram  medidos é 226g, com desvio  padrão  de 10g. Estabeleça  o intervalo  de confiança \n",
    "para esta média, sabendo que o desvio padrão observado é exatamente seu valor histórico. \n",
    "Considere um nível de confiança de 95%.**"
   ]
  }
 ],
 "metadata": {
  "kernelspec": {
   "display_name": "Python 3",
   "language": "python",
   "name": "python3"
  },
  "language_info": {
   "codemirror_mode": {
    "name": "ipython",
    "version": 3
   },
   "file_extension": ".py",
   "mimetype": "text/x-python",
   "name": "python",
   "nbconvert_exporter": "python",
   "pygments_lexer": "ipython3",
   "version": "3.11.6"
  }
 },
 "nbformat": 4,
 "nbformat_minor": 2
}
